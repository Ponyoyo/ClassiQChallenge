{
 "cells": [
  {
   "cell_type": "code",
   "execution_count": 50,
   "id": "089729ee-709e-4dd8-8460-a9f49a74a95c",
   "metadata": {},
   "outputs": [
    {
     "name": "stdout",
     "output_type": "stream",
     "text": [
      "Parsed counts: [{'y1': 1.0, 'y2': 1.0}: 2048]\n",
      "Parsed states: {'11': {'y1': 1.0, 'y2': 1.0}}\n"
     ]
    }
   ],
   "source": [
    "from classiq import QBit, Output, qfunc, RX, RZ, allocate\n",
    "from sympy import pi\n",
    "\n",
    "# Define the quantum circuit for the harmonic oscillator\n",
    "@qfunc\n",
    "def main(y1: Output[QBit], y2: Output[QBit]):\n",
    "    # Allocate qubits for y1 and y2\n",
    "    allocate(1, y1)\n",
    "    allocate(1, y2)\n",
    "\n",
    "    # Initialize the qubits to represent the initial state y(0) = 1 and y'(0) = 1\n",
    "    RX(pi, y1)  # Apply RX(pi) to y1 to set y1 = 1\n",
    "    RX(pi, y2)  # Apply RX(pi) to y2 to set y2 = 1\n",
    "\n",
    "# Synthesize the quantum model\n",
    "quantum_model = create_model(main)\n",
    "quantum_program = synthesize(quantum_model)\n",
    "\n",
    "# Execute the quantum program\n",
    "job = execute(quantum_program)\n",
    "\n",
    "# Fetch and print the results\n",
    "results = job.result()[0].value\n",
    "print(\"Parsed counts:\", results.parsed_counts)\n",
    "print(\"Parsed states:\", results.parsed_states)"
   ]
  },
  {
   "cell_type": "code",
   "execution_count": 51,
   "id": "061a2fe9-5acf-4bc9-bfbc-9da55ff75763",
   "metadata": {},
   "outputs": [],
   "source": [
    "# Matrix M is already defined as M = [[0, 1], [-1, 0]]\n",
    "@qfunc\n",
    "def time_evolution(y1: QBit, y2: QBit):\n",
    "    # Apply time evolution gates based on matrix M\n",
    "    RZ(pi / 2, y1)  # Evolves y1\n",
    "    RX(pi / 2, y2)  # Evolves y2\n",
    "\n",
    "# Include the time evolution step in the circuit"
   ]
  },
  {
   "cell_type": "code",
   "execution_count": 52,
   "id": "27933503-8505-427a-8b5c-19c3539f0226",
   "metadata": {},
   "outputs": [
    {
     "name": "stdout",
     "output_type": "stream",
     "text": [
      "Parsed counts: [{'y1': 1.0, 'y2': 1.0}: 1030, {'y1': 0.0, 'y2': 1.0}: 1018]\n",
      "Parsed states: {'10': {'y1': 0.0, 'y2': 1.0}, '11': {'y1': 1.0, 'y2': 1.0}}\n"
     ]
    }
   ],
   "source": [
    "# Define the quantum circuit for time evolution\n",
    "@qfunc\n",
    "def time_evolution(y1: QBit, y2: QBit):\n",
    "    # Time evolution step (applying matrix M)\n",
    "    RX(pi / 2, y1)  # Evolve y1 based on M\n",
    "    RZ(pi / 2, y2)  # Evolve y2 based on M\n",
    "\n",
    "# Now integrate the time evolution into the main function\n",
    "@qfunc\n",
    "def main(y1: Output[QBit], y2: Output[QBit]):\n",
    "    # Allocate qubits for y1 and y2\n",
    "    allocate(1, y1)\n",
    "    allocate(1, y2)\n",
    "\n",
    "    # Initialize the qubits to represent the initial state y(0) = 1 and y'(0) = 1\n",
    "    RX(pi, y1)  # Apply RX(pi) to y1 to set y1 = 1\n",
    "    RX(pi, y2)  # Apply RX(pi) to y2 to set y2 = 1\n",
    "\n",
    "    # Apply time evolution using the matrix M\n",
    "    time_evolution(y1, y2)\n",
    "\n",
    "# Synthesize and execute the quantum model\n",
    "quantum_model = create_model(main)\n",
    "quantum_program = synthesize(quantum_model)\n",
    "\n",
    "# Execute the quantum program\n",
    "job = execute(quantum_program)\n",
    "\n",
    "job.open_in_ide()\n",
    "\n",
    "# Fetch and print the results\n",
    "results = job.result()[0].value\n",
    "print(\"Parsed counts:\", results.parsed_counts)\n",
    "print(\"Parsed states:\", results.parsed_states)"
   ]
  },
  {
   "cell_type": "code",
   "execution_count": 53,
   "id": "03d20624-2ed0-4991-a16f-dca0180f80d9",
   "metadata": {},
   "outputs": [
    {
     "name": "stdout",
     "output_type": "stream",
     "text": [
      "y1: 1.0, y2: 1.0, shots: 1030\n",
      "Kinetic Energy: 0.5, Potential Energy: 0.5\n",
      "y1: 0.0, y2: 1.0, shots: 1018\n",
      "Kinetic Energy: 0.5, Potential Energy: 0.0\n",
      "Average Kinetic Energy (KE): 0.5\n",
      "Average Potential Energy (PE): 0.2511393229166667\n"
     ]
    }
   ],
   "source": [
    "# Loop through the parsed counts to calculate energies based on measured y1 and y2\n",
    "for outcome in results.parsed_counts:\n",
    "    y1 = outcome.state['y1']\n",
    "    y2 = outcome.state['y2']\n",
    "    shots = outcome.shots\n",
    "\n",
    "    # Kinetic energy\n",
    "    kinetic_energy = 0.5 * y2 ** 2\n",
    "    potential_energy = 0.5 * y1 ** 2\n",
    "\n",
    "    total_kinetic_energy += kinetic_energy * shots\n",
    "    total_potential_energy += potential_energy * shots\n",
    "    total_shots += shots\n",
    "    \n",
    "    # Print for debugging each iteration\n",
    "    print(f\"y1: {y1}, y2: {y2}, shots: {shots}\")\n",
    "    print(f\"Kinetic Energy: {kinetic_energy}, Potential Energy: {potential_energy}\")\n",
    "\n",
    "# Average the energies\n",
    "average_kinetic_energy = total_kinetic_energy / total_shots\n",
    "average_potential_energy = total_potential_energy / total_shots\n",
    "\n",
    "# Print the results\n",
    "print(f\"Average Kinetic Energy (KE): {average_kinetic_energy}\")\n",
    "print(f\"Average Potential Energy (PE): {average_potential_energy}\")"
   ]
  },
  {
   "cell_type": "code",
   "execution_count": 46,
   "id": "b946e759-b97f-4dfc-9252-4d772b24877c",
   "metadata": {},
   "outputs": [],
   "source": []
  },
  {
   "cell_type": "code",
   "execution_count": null,
   "id": "5668984b-cea7-4570-8118-a4467c44b6b0",
   "metadata": {},
   "outputs": [],
   "source": []
  }
 ],
 "metadata": {
  "kernelspec": {
   "display_name": "Python 3 (ipykernel)",
   "language": "python",
   "name": "python3"
  },
  "language_info": {
   "codemirror_mode": {
    "name": "ipython",
    "version": 3
   },
   "file_extension": ".py",
   "mimetype": "text/x-python",
   "name": "python",
   "nbconvert_exporter": "python",
   "pygments_lexer": "ipython3",
   "version": "3.9.6"
  }
 },
 "nbformat": 4,
 "nbformat_minor": 5
}
